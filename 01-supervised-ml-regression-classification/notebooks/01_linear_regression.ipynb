{
 "cells": [
  {
   "cell_type": "markdown",
   "id": "659a3cbe",
   "metadata": {},
   "source": [
    "## 1. Data preparation and cleaning 🧹\n",
    "\n",
    "Before training any model, we need to prepare the dataset properly.\n",
    "The raw data consists of historical matches between **Chelsea** and **Liverpool**, between 1921 and 2025, including match date and the number of goals scored.\n",
    "\n",
    "Steps in this section:\n",
    "- **Load the dataset** (from CSV export of oGol: https://www.ogol.com.br/estatisticas/chelsea-liverpool/t81-t85?id_comp=0&grp=1&epoca_ini=0&page=1).\n",
    "- **Select relevant columns**:\n",
    "- `date` → independent variable \\(x\\) (converted into numerical format yyyyMMdd (yearmonthday) since the first recorded match).\n",
    "- `goals_total` → dependent variable \\(y\\) (sum of Chelsea and Liverpool goals grouped by year).\n",
    "- **Convert dates** into a numeric scale suitable for regression, group date by year.\n",
    "- **Visual sanity check**: print dataset head, plot goals over time, and check for anomalies (outliers, wrong entries, etc.).\n",
    "\n",
    "⚠️ *Note*: Using date as the only predictor is a simplification — the intent is to build a clean, minimal dataset for a first regression experiment."
   ]
  },
  {
   "cell_type": "markdown",
   "id": "f93954a9",
   "metadata": {},
   "source": [
    "### 1.1 Load the dataset 📂\n",
    "\n",
    "We start by loading the dataset from the `data/All_Games_Chelsea_Vs_Liverpool.csv` file.  \n",
    "The file contains historical matches, with columns for date, result, teams, and score.  \n",
    "\n",
    "Steps in this subsection:\n",
    "\n",
    "- Import libraries (`pandas`, `numpy`, `matplotlib`).\n",
    "- Load the CSV file into a DataFrame.\n",
    "- Inspect the dataset (`head()`, `info()`) to verify the structure.\n",
    "- Parse the **Date** column as `datetime`.\n",
    "- Split the **Score** column into numerical values (goals for each team).\n",
    "- Create a new column `goals_total` = sum of Chelsea and Liverpool goals."
   ]
  },
  {
   "cell_type": "code",
   "execution_count": 8,
   "id": "1f6e70b4",
   "metadata": {},
   "outputs": [
    {
     "name": "stdout",
     "output_type": "stream",
     "text": [
      "  ChelseaResult       Date      Time1 Score      Time2  Home_goals  \\\n",
      "0             E 1921-10-01  Liverpool   1-1    Chelsea           1   \n",
      "1             D 1921-09-24    Chelsea   0-1  Liverpool           0   \n",
      "2             D 1920-12-27  Liverpool   2-1    Chelsea           2   \n",
      "3             E 1920-12-25    Chelsea   1-1  Liverpool           1   \n",
      "4             V 1919-10-18  Liverpool   0-1    Chelsea           0   \n",
      "\n",
      "   Away_goals  goals_total  \n",
      "0           1            2  \n",
      "1           1            1  \n",
      "2           1            3  \n",
      "3           1            2  \n",
      "4           1            1  \n",
      "<class 'pandas.core.frame.DataFrame'>\n",
      "RangeIndex: 198 entries, 0 to 197\n",
      "Data columns (total 8 columns):\n",
      " #   Column         Non-Null Count  Dtype         \n",
      "---  ------         --------------  -----         \n",
      " 0   ChelseaResult  198 non-null    object        \n",
      " 1   Date           198 non-null    datetime64[ns]\n",
      " 2   Time1          198 non-null    object        \n",
      " 3   Score          198 non-null    object        \n",
      " 4   Time2          198 non-null    object        \n",
      " 5   Home_goals     198 non-null    Int64         \n",
      " 6   Away_goals     198 non-null    Int64         \n",
      " 7   goals_total    198 non-null    Int64         \n",
      "dtypes: Int64(3), datetime64[ns](1), object(4)\n",
      "memory usage: 13.1+ KB\n",
      "None\n"
     ]
    }
   ],
   "source": [
    "import pandas as pd\n",
    "import numpy as np\n",
    "import matplotlib.pyplot as plt\n",
    "\n",
    "file_path = \"../data/All_Games_Chelsea_Vs_Liverpool.csv\"\n",
    "\n",
    "# Read as pipe-delimited, skip the inconsistent header line, and define proper column names\n",
    "df = pd.read_csv(\n",
    "    file_path,\n",
    "    sep=r\"\\|\",\n",
    "    engine=\"python\",\n",
    "    header=None,\n",
    "    skiprows=1,  # skip the first row \"ChelseaResult|DateTime1|Score|Time2\"\n",
    "    names=[\"ChelseaResult\", \"Date\", \"Time1\", \"Score\", \"Time2\"],\n",
    "    dtype=str\n",
    ")\n",
    "\n",
    "# Strip leading/trailing spaces only on object (string) columns (avoid deprecated applymap)\n",
    "for col in df.select_dtypes(include=\"object\").columns:\n",
    "    df[col] = df[col].str.strip()\n",
    "\n",
    "# Convert \"Date\" column to datetime format\n",
    "df[\"Date\"] = pd.to_datetime(df[\"Date\"], errors=\"coerce\")\n",
    "\n",
    "# Split \"Score\" column (format \"a-b\") into two integers\n",
    "score_parsed = df[\"Score\"].str.extract(r\"^\\s*(\\d+)\\s*-\\s*(\\d+)\\s*$\")\n",
    "df[[\"Home_goals\", \"Away_goals\"]] = score_parsed.astype(\"Int64\")\n",
    "\n",
    "# Compute total number of goals per match\n",
    "df[\"goals_total\"] = df[\"Home_goals\"] + df[\"Away_goals\"]\n",
    "\n",
    "# Quick inspection of the cleaned dataset\n",
    "print(df.head())\n",
    "print(df.info())\n",
    "\n",
    "# Detect problematic rows (invalid dates or scores)\n",
    "bad_rows = df[df[\"Date\"].isna() | df[\"Home_goals\"].isna() | df[\"Away_goals\"].isna()]\n",
    "if not bad_rows.empty:\n",
    "    print(\"\\n Problematic rows detected:\")\n",
    "    display(bad_rows.head(10))"
   ]
  },
  {
   "cell_type": "code",
   "execution_count": null,
   "id": "ed5f395f-afd7-4a4c-a54b-04494411a541",
   "metadata": {},
   "outputs": [],
   "source": []
  }
 ],
 "metadata": {
  "kernelspec": {
   "display_name": "Python 3 (ipykernel)",
   "language": "python",
   "name": "python3"
  },
  "language_info": {
   "codemirror_mode": {
    "name": "ipython",
    "version": 3
   },
   "file_extension": ".py",
   "mimetype": "text/x-python",
   "name": "python",
   "nbconvert_exporter": "python",
   "pygments_lexer": "ipython3",
   "version": "3.13.7"
  }
 },
 "nbformat": 4,
 "nbformat_minor": 5
}
