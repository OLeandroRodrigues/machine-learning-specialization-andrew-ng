{
 "cells": [
  {
   "cell_type": "markdown",
   "id": "659a3cbe",
   "metadata": {},
   "source": [
    "## 1. Data preparation and cleaning 🧹\n",
    "\n",
    "Before training any model, we need to prepare the dataset properly.\n",
    "The raw data consists of historical matches between **Chelsea** and **Liverpool**, between 1921 and 2025, including match date and the number of goals scored.\n",
    "\n",
    "Steps in this section:\n",
    "- **Load the dataset** (from CSV export of oGol: https://www.ogol.com.br/estatisticas/chelsea-liverpool/t81-t85?id_comp=0&grp=1&epoca_ini=0&page=1).\n",
    "- **Select relevant columns**:\n",
    "- `date` → independent variable \\(x\\) (converted into numerical format yyyyMMdd (yearmonthday) since the first recorded match).\n",
    "- `goals_total` → dependent variable \\(y\\) (sum of Chelsea and Liverpool goals grouped by year).\n",
    "- **Convert dates** into a numeric scale suitable for regression, group date by year.\n",
    "- **Visual sanity check**: print dataset head, plot goals over time, and check for anomalies (outliers, wrong entries, etc.).\n",
    "\n",
    "⚠️ *Note*: Using date as the only predictor is a simplification — the intent is to build a clean, minimal dataset for a first regression experiment."
   ]
  }
 ],
 "metadata": {
  "language_info": {
   "name": "python"
  }
 },
 "nbformat": 4,
 "nbformat_minor": 5
}
